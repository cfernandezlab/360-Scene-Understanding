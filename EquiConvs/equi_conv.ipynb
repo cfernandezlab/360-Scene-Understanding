{
 "cells": [
  {
   "cell_type": "code",
   "execution_count": 2,
   "metadata": {},
   "outputs": [],
   "source": [
    "import numpy as np\n",
    "from PIL import Image\n",
    "import glob\n",
    "from matplotlib import pyplot as plt\n",
    "import math\n",
    "from matplotlib import colors as mcolors"
   ]
  },
  {
   "cell_type": "code",
   "execution_count": 3,
   "metadata": {},
   "outputs": [],
   "source": [
    "def rotation_matrix(axis, theta):\n",
    "    \"\"\"\n",
    "    Return the rotation matrix associated with counterclockwise rotation about\n",
    "    the given axis by theta radians.\n",
    "    \"\"\"\n",
    "    axis = np.asarray(axis)\n",
    "    axis = axis / math.sqrt(np.dot(axis, axis))\n",
    "    a = math.cos(theta / 2.0)\n",
    "    b, c, d = -axis * math.sin(theta / 2.0)\n",
    "    aa, bb, cc, dd = a * a, b * b, c * c, d * d\n",
    "    bc, ad, ac, ab, bd, cd = b * c, a * d, a * c, a * b, b * d, c * d\n",
    "    return np.array([[aa + bb - cc - dd, 2 * (bc + ad), 2 * (bd - ac)],\n",
    "                     [2 * (bc - ad), aa + cc - bb - dd, 2 * (cd + ab)],\n",
    "                     [2 * (bd + ac), 2 * (cd - ab), aa + dd - bb - cc]])"
   ]
  },
  {
   "cell_type": "code",
   "execution_count": 4,
   "metadata": {},
   "outputs": [],
   "source": [
    "def equi_coord(im,pano_W,pano_H,k_W,k_H,u,v): \n",
    "        \n",
    "    fov_w = k_W*np.deg2rad(360/pano_W)\n",
    "    focal = (float(k_W)/2) / np.tan(fov_w/2)\n",
    "    c_x = 0\n",
    "    c_y = 0\n",
    "    phi, theta = ((u- pano_W/2 -0.5)/pano_W * math.pi *2, -(v- pano_H/2 -0.5)/pano_H * math.pi)\n",
    "    ROT = rotation_matrix((0,1,0),phi)\n",
    "    ROT = np.matmul(ROT,rotation_matrix((1,0,0),theta))#np.eye(3)\n",
    "\n",
    "    h_range = np.array(range(k_H))\n",
    "    w_range = np.array(range(k_W))\n",
    "    w_ones = (np.ones(k_W))\n",
    "    h_ones = (np.ones(k_H))\n",
    "    h_grid = np.matmul(np.expand_dims(h_range,-1),np.expand_dims(w_ones,0))+0.5-float(k_H)/2\n",
    "    w_grid = np.matmul(np.expand_dims(h_ones,-1),np.expand_dims(w_range,0))+0.5-float(k_W)/2\n",
    "    \n",
    "    K=np.array([[focal,0,c_x],[0,focal,c_y],[0.,0.,1.]])\n",
    "    inv_K = np.linalg.inv(K)\n",
    "    rays = np.stack([w_grid,h_grid,np.ones(h_grid.shape)],0)\n",
    "    rays = np.matmul(inv_K,rays.reshape(3,k_H*k_W))\n",
    "    rays /= np.linalg.norm(rays,axis=0,keepdims=True)\n",
    "    rays = np.matmul(ROT,rays)\n",
    "    rays=rays.reshape(3,k_H,k_W)\n",
    "    \n",
    "    theta = np.arctan2(rays[0,...],rays[2,...])\n",
    "    phi = np.arcsin(np.clip(rays[1,...],-1,1))\n",
    "    PI = np.pi\n",
    "    y = pano_H*(phi + 0.5*PI)/PI \n",
    "    x = pano_W*0.5*(theta/PI+1) \n",
    "    \n",
    "    roi_y = h_grid+v\n",
    "    roi_x = w_grid+u\n",
    "\n",
    "    new_roi_y = (y)+0.5\n",
    "    new_roi_x = (x)+0.5\n",
    "\n",
    "    colors = np.random.rand(len(roi_x.flatten()))\n",
    "    imgplot = plt.imshow(im)\n",
    "    plt.scatter( roi_x.flatten(), roi_y.flatten(), s=2, c='r', alpha=0.5)\n",
    "    plt.scatter( new_roi_x.flatten(), new_roi_y.flatten(), s=2, c='b', alpha=0.5)\n",
    "    plt.show()\n",
    "\n",
    "    return "
   ]
  },
  {
   "cell_type": "code",
   "execution_count": 16,
   "metadata": {},
   "outputs": [
    {
     "data": {
      "image/png": "[encoded data removed]",
      "text/plain": [
       "<Figure size 432x288 with 1 Axes>"
      ]
     },
     "metadata": {
      "needs_background": "light"
     },
     "output_type": "display_data"
    }
   ],
   "source": [
    "im = np.random.rand(16,32,3)*0+1\n",
    "pano_H, pano_W,_ = im.shape\n",
    "kernel = np.array(np.random.rand(3,3))\n",
    "k_H, k_W = kernel.shape \n",
    "u, v = (16,2)# application center in pixels\n",
    "\n",
    "equi_coord(im,pano_W,pano_H,k_W,k_H,u,v)"
   ]
  },
  {
   "cell_type": "code",
   "execution_count": null,
   "metadata": {},
   "outputs": [],
   "source": []
  },
  {
   "cell_type": "code",
   "execution_count": null,
   "metadata": {},
   "outputs": [],
   "source": [
    "def equi_coord(pano_W,pano_H,k_W,k_H,u,v,alpha=-1): \n",
    "    #pix = np.pi*2/pano_W\n",
    "    fov_w = k_W * np.deg2rad(360./float(pano_W))\n",
    "    if alpha>0:\n",
    "        print(fov_w)\n",
    "        assert fov_w<=alpha # kernel resolution is less or equal to the image resolution\n",
    "        fov_w = alpha\n",
    "    focal = (float(k_W)/2) / np.tan(fov_w/2)\n",
    "    c_x = 0\n",
    "    c_y = 0\n",
    "\n",
    "    u_r, v_r = u, v #u+0.5, v+0.5\n",
    "    u_r, v_r = u_r-float(pano_W)/2.,v_r-float(pano_H)/2.\n",
    "    #phi, theta = ((u- pano_W/2 -0.5)/pano_W * math.pi *2, -(v- pano_H/2 -0.5)/pano_H * math.pi)\n",
    "    phi, theta = u_r/(pano_W) * (np.pi) *2, -v_r/(pano_H) * (np.pi)\n",
    "    #phi, theta = u_r/(pano_W-1) * (np.pi*2-pix), -v_r/(pano_H-1) * (np.pi-pix)\n",
    "\n",
    "    ROT = rotation_matrix((0,1,0),phi)\n",
    "    ROT = np.matmul(ROT,rotation_matrix((1,0,0),theta))#np.eye(3)\n",
    "\n",
    "    h_range = np.array(range(k_H))\n",
    "    w_range = np.array(range(k_W))\n",
    "    w_ones = (np.ones(k_W))\n",
    "    h_ones = (np.ones(k_H))\n",
    "    h_grid = np.matmul(np.expand_dims(h_range,-1),np.expand_dims(w_ones,0))+0.5-float(k_H)/2\n",
    "    w_grid = np.matmul(np.expand_dims(h_ones,-1),np.expand_dims(w_range,0))+0.5-float(k_W)/2\n",
    "\n",
    "    K=np.array([[focal,0,c_x],[0,focal,c_y],[0.,0.,1.]])\n",
    "    inv_K = np.linalg.inv(K)\n",
    "    rays = np.stack([w_grid,h_grid,np.ones(h_grid.shape)],0)\n",
    "    rays = np.matmul(inv_K,rays.reshape(3,k_H*k_W))\n",
    "    rays /= np.linalg.norm(rays,axis=0,keepdims=True)\n",
    "    rays = np.matmul(ROT,rays)\n",
    "    rays=rays.reshape(3,k_H,k_W)\n",
    "\n",
    "    phi = np.arctan2(rays[0,...],rays[2,...])\n",
    "    theta = np.arcsin(np.clip(rays[1,...],-1,1))\n",
    "    x = (pano_W)/(2.*np.pi)*phi +float(pano_W)/2.\n",
    "    y = (pano_H)/(np.pi)*theta +float(pano_H)/2.\n",
    "\n",
    "    roi_y = h_grid+v_r +float(pano_H)/2.\n",
    "    roi_x = w_grid+u_r +float(pano_W)/2.\n",
    "\n",
    "    new_roi_y = (y) \n",
    "    new_roi_x = (x) \n",
    "    \n",
    "    return roi_x, roi_y, new_roi_x, new_roi_y\n",
    "#     offsets_x = (new_roi_x - roi_x)\n",
    "#     offsets_y = (new_roi_y - roi_y)\n",
    "\n",
    "#     return offsets_x, offsets_y\n"
   ]
  }
 ],
 "metadata": {
  "kernelspec": {
   "display_name": "Python 3",
   "language": "python",
   "name": "python3"
  },
  "language_info": {
   "codemirror_mode": {
    "name": "ipython",
    "version": 3
   },
   "file_extension": ".py",
   "mimetype": "text/x-python",
   "name": "python",
   "nbconvert_exporter": "python",
   "pygments_lexer": "ipython3",
   "version": "3.5.2"
  }
 },
 "nbformat": 4,
 "nbformat_minor": 2
}
